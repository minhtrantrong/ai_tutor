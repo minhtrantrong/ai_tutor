{
 "cells": [
  {
   "cell_type": "code",
   "execution_count": 1,
   "metadata": {},
   "outputs": [],
   "source": [
    "import tkinter as tk\n",
    "import os\n",
    "from PIL import Image, ImageTk"
   ]
  },
  {
   "cell_type": "code",
   "execution_count": 2,
   "metadata": {},
   "outputs": [],
   "source": [
    "def add_image(text,img):\n",
    "    text.image_create(tk.END, image = img) \n",
    "    text.window_create(tk.END, window = tk.Label(text, image = img)) \n",
    "    return\n",
    "    "
   ]
  },
  {
   "cell_type": "code",
   "execution_count": 3,
   "metadata": {},
   "outputs": []
    }
   ],
   "source": [
    "\n",
    "root = tk.Tk()\n",
    "\n",
    "text = tk.Text(root)\n",
    "text.pack(padx = 20, pady = 20)\n",
    "\n",
    "cwd = os.getcwd()\n",
    "#img_path = os.path.join(cwd, \"lectures\\\\neural_network\\\\images\\\\neural.jpg\")\n",
    "img_path = \"neural.jpg\"\n",
    "#img = tk.PhotoImage(file = img_path)\n",
    "\n",
    "img = ImageTk.PhotoImage(Image.open(img_path))\n",
    "#add_image(text, img)\n",
    "text.image_create(tk.END, image = img) \n",
    "#text.window_create(tk.END, window = tk.Label(text, image = img)) \n",
    "#text.image_create(\"current\",image=img)\n",
    "root.mainloop()"
   ]
  }
 ],
 "metadata": {
  "interpreter": {
   "hash": "b89b5cfaba6639976dc87ff2fec6d58faec662063367e2c229c520fe71072417"
  },
  "kernelspec": {
   "display_name": "Python 3.10.4 64-bit",
   "language": "python",
   "name": "python3"
  },
  "language_info": {
   "codemirror_mode": {
    "name": "ipython",
    "version": 3
   },
   "file_extension": ".py",
   "mimetype": "text/x-python",
   "name": "python",
   "nbconvert_exporter": "python",
   "pygments_lexer": "ipython3",
   "version": "3.10.4"
  },
  "orig_nbformat": 4
 },
 "nbformat": 4,
 "nbformat_minor": 2
}
