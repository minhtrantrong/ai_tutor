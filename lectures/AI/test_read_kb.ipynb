{
 "cells": [
  {
   "cell_type": "code",
   "execution_count": 1,
   "metadata": {},
   "outputs": [],
   "source": [
    "def read_lectures(lecture_file, keys=[\"[LECTURE]\", \"[IMAGE]\", \"[Q&A]\", \"[END]\"]):\n",
    "    # lecture_file is a plain text file (.txt)\n",
    "    # kb is a knowledge based in dictionary data type\n",
    "    kb = {}\n",
    "    with open(lecture_file, 'r') as lf:\n",
    "        lecture = lf.readlines()\n",
    "        doc_len = len(lecture)\n",
    "        print(\"Length of document: \", doc_len)\n",
    "        index = 0\n",
    "        keys_index = []\n",
    "        while index < doc_len:\n",
    "            line = lecture[index]\n",
    "            print(line)\n",
    "            line = line.strip()\n",
    "            if len(line) == 0:\n",
    "                continue\n",
    "            if line[0] ==\"#\":\n",
    "                continue\n",
    "            if line in keys:\n",
    "                keys_index.append(index)\n",
    "            index += 1\n",
    "            print(\"index: \", index)\n",
    "        print(\"All key index: \", keys_index)\n",
    "        for i in range(len(keys_index)):\n",
    "            idx = keys_index[i]\n",
    "            key = lecture[idx]\n",
    "            if key != \"[END]\":\n",
    "                next_idx = keys_index[i+1]\n",
    "                kb[key] = tuple(lecture[idx+1: next_idx])\n",
    "    return kb\n",
    "                "
   ]
  },
  {
   "cell_type": "code",
   "execution_count": 2,
   "metadata": {},
   "outputs": [
    {
     "name": "stdout",
     "output_type": "stream",
     "text": [
      "Length of document:  42\n"
     ]
    },
    {
     "ename": "KeyboardInterrupt",
     "evalue": "",
     "output_type": "error",
     "traceback": [
      "\u001b[1;31m---------------------------------------------------------------------------\u001b[0m",
      "\u001b[1;31mKeyboardInterrupt\u001b[0m                         Traceback (most recent call last)",
      "\u001b[1;32md:\\FGW\\GDRIVE\\My Codes\\My Python\\ChatBot\\ChatterBot_GUI\\lectures\\neural_network\\test_read_kb.ipynb Cell 2'\u001b[0m in \u001b[0;36m<cell line: 1>\u001b[1;34m()\u001b[0m\n\u001b[1;32m----> <a href='vscode-notebook-cell:/d%3A/FGW/GDRIVE/My%20Codes/My%20Python/ChatBot/ChatterBot_GUI/lectures/neural_network/test_read_kb.ipynb#ch0000001?line=0'>1</a>\u001b[0m kb \u001b[39m=\u001b[39m read_lectures(\u001b[39m\"\u001b[39;49m\u001b[39mneural_network.txt\u001b[39;49m\u001b[39m\"\u001b[39;49m, keys\u001b[39m=\u001b[39;49m[\u001b[39m\"\u001b[39;49m\u001b[39m[LECTURE]\u001b[39;49m\u001b[39m\"\u001b[39;49m, \u001b[39m\"\u001b[39;49m\u001b[39m[IMAGE]\u001b[39;49m\u001b[39m\"\u001b[39;49m, \u001b[39m\"\u001b[39;49m\u001b[39m[Q&A]\u001b[39;49m\u001b[39m\"\u001b[39;49m, \u001b[39m\"\u001b[39;49m\u001b[39m[END]\u001b[39;49m\u001b[39m\"\u001b[39;49m])\n",
      "\u001b[1;32md:\\FGW\\GDRIVE\\My Codes\\My Python\\ChatBot\\ChatterBot_GUI\\lectures\\neural_network\\test_read_kb.ipynb Cell 1'\u001b[0m in \u001b[0;36mread_lectures\u001b[1;34m(lecture_file, keys)\u001b[0m\n\u001b[0;32m     <a href='vscode-notebook-cell:/d%3A/FGW/GDRIVE/My%20Codes/My%20Python/ChatBot/ChatterBot_GUI/lectures/neural_network/test_read_kb.ipynb#ch0000000?line=11'>12</a>\u001b[0m line \u001b[39m=\u001b[39m lecture[index]\n\u001b[0;32m     <a href='vscode-notebook-cell:/d%3A/FGW/GDRIVE/My%20Codes/My%20Python/ChatBot/ChatterBot_GUI/lectures/neural_network/test_read_kb.ipynb#ch0000000?line=12'>13</a>\u001b[0m line \u001b[39m=\u001b[39m line\u001b[39m.\u001b[39mstrip()\n\u001b[1;32m---> <a href='vscode-notebook-cell:/d%3A/FGW/GDRIVE/My%20Codes/My%20Python/ChatBot/ChatterBot_GUI/lectures/neural_network/test_read_kb.ipynb#ch0000000?line=13'>14</a>\u001b[0m \u001b[39mif\u001b[39;00m \u001b[39mlen\u001b[39;49m(line) \u001b[39m==\u001b[39m \u001b[39m0\u001b[39m:\n\u001b[0;32m     <a href='vscode-notebook-cell:/d%3A/FGW/GDRIVE/My%20Codes/My%20Python/ChatBot/ChatterBot_GUI/lectures/neural_network/test_read_kb.ipynb#ch0000000?line=14'>15</a>\u001b[0m     \u001b[39mcontinue\u001b[39;00m\n\u001b[0;32m     <a href='vscode-notebook-cell:/d%3A/FGW/GDRIVE/My%20Codes/My%20Python/ChatBot/ChatterBot_GUI/lectures/neural_network/test_read_kb.ipynb#ch0000000?line=15'>16</a>\u001b[0m \u001b[39mif\u001b[39;00m line[\u001b[39m0\u001b[39m] \u001b[39m==\u001b[39m\u001b[39m\"\u001b[39m\u001b[39m#\u001b[39m\u001b[39m\"\u001b[39m:\n",
      "\u001b[1;31mKeyboardInterrupt\u001b[0m: "
     ]
    }
   ],
   "source": [
    "kb = read_lectures(\"neural_network.txt\", keys=[\"[LECTURE]\", \"[IMAGE]\", \"[Q&A]\", \"[END]\"])"
   ]
  }
 ],
 "metadata": {
  "interpreter": {
   "hash": "b89b5cfaba6639976dc87ff2fec6d58faec662063367e2c229c520fe71072417"
  },
  "kernelspec": {
   "display_name": "Python 3.10.4 64-bit",
   "language": "python",
   "name": "python3"
  },
  "language_info": {
   "codemirror_mode": {
    "name": "ipython",
    "version": 3
   },
   "file_extension": ".py",
   "mimetype": "text/x-python",
   "name": "python",
   "nbconvert_exporter": "python",
   "pygments_lexer": "ipython3",
   "version": "3.10.4"
  },
  "orig_nbformat": 4
 },
 "nbformat": 4,
 "nbformat_minor": 2
}
